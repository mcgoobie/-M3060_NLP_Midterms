{
 "cells": [
  {
   "cell_type": "markdown",
   "id": "b7ee74c1",
   "metadata": {},
   "source": [
    "# Coursework Assignment: Text classification"
   ]
  },
  {
   "cell_type": "markdown",
   "id": "5ec749df",
   "metadata": {},
   "source": [
    "## (1) : Introduction"
   ]
  },
  {
   "cell_type": "markdown",
   "id": "ba323012",
   "metadata": {},
   "source": [
    "### Domain-Specific Area : Movie and Film Industry\n",
    "\n",
    "This report aims to explore how the application of a text classifier for sentiment analysis can help resolve challenges in the Film Industry. With the ever-growing popularity of social media and review websites, it has grown increasingly difficult to make informed decisions regarding whether a movie is worth watching.\n",
    "\n",
    "This is due to a simple fact that peoples' taste in films will differ significantly. The uncertainity regarding how worth new movies are to watch could lead to having a fear of missing out(FOMO).\n",
    "\n",
    "Furthermore, with the rising costs in our day-to-day lives, deciding to spend a night at the cinema is a very costly affair. It is a terrible experience for any individual to have to spend $15 SGD, just to have it wasted on a film of subpar quality for the next few hours of the evening.\n",
    "\n",
    "By creating a text classifier to analyze sentiment in movie reviews, this report hopes to aid indivisuals in their decision making and improve the quality of their movie-watching experience."
   ]
  },
  {
   "cell_type": "markdown",
   "id": "297a5554",
   "metadata": {},
   "source": [
    "### Objectives\n",
    "\n",
    "The main problem this report tackles is being able to get a text classifier that identifies the overall sentiment of a given movie's reviews.\n",
    "\n",
    "Thus, the primary objective of this classifier is to,\n",
    "\n",
    "- Correctly assign binary labels of pos/neg to movie reviews."
   ]
  },
  {
   "cell_type": "markdown",
   "id": "276d96c1",
   "metadata": {},
   "source": [
    "### Dataset\n",
    "\n",
    "For the dataset, I will be using the <a href=\"https://ai.stanford.edu/~amaas/data/sentiment/\"><b>Large Movie Review Dataset</b></a> which was the dataset used in the publication of the ACL 2011 paper, <b>Learning Word Vectors for Sentiment Analysis</b>, written by <b>Andrew L. Maas, Raymond E. Daly, Peter T. Pham, Dan Huang,\n",
    "Andrew Y. Ng, and Christopher Potts</b>, which can be found <a href=\"https://aclanthology.org/P11-1015/\">here</a>.\n",
    "\n",
    "This dataset contains a wide collection of movie reviews that is meant for use with binary sentiment classification.\n",
    "\n",
    "It contains data on a total of 100 thousand movie reviews, being split into a set of 25 thousand reviews for training and testing, with an additional 50 thousand unlabelled data meant for unsupervised learning.\n",
    "\n",
    "As the objective of this text classifier is the assignment of binary labels to each review, the report will not be taking the unlabelled reviews into consideration as the objective of this classifier is a supervised task.\n",
    "\n",
    "The dataset has been split into 2 main directories, one each for both labelled test set and training sets. Both sets are further split into 2 sub-folders, one housing positive review data and the other housing negative review data.\n",
    "\n",
    "Each movie review is stored in a .txt file with the naming format of <b>[id]_[rating].txt</b>. A negative rating is a review on IMDB with a score of ≤ 4, whereas a positive review will have a score of at least a 7, both on the scale of 10. For each set, reviews that scored a 5 or 6 were not included due to the neutrality/ambiguity of said review.\n",
    "\n",
    "This data was web scraped from IMDB's website, with each movie scraped via its unique ID web page and unique URL included in the dataset as well, under the test/train folders in a urls.txt file."
   ]
  },
  {
   "cell_type": "markdown",
   "id": "32d6b3fb",
   "metadata": {},
   "source": [
    "### Evaluation Methodology\n",
    "\n",
    "For our objective of training a text classifier to be able to properly analyse the overall sentiment of a movie through its reviews in order for users to gauge if a movie is worth their time, these are a some evaluation metrics that can be taken into consideration.\n",
    "\n",
    "<b>Precision</b>\n",
    "The precision of a model can be understood as the measure of predicted positives out of the actual positives. The formula for this is,\n",
    "\n",
    "$$ Precision = {True Positive(TP) \\over True Positive(TP) + False Positive(FP)} $$\n",
    "\n",
    "<b>Recall</b>\n",
    "The Recall of a model can be understood as the measure of correctly identified true positives. The formula for this is,\n",
    "\n",
    "$$ Recall = {True Positive(TP) \\over True Positive(TP) + False Negative(FN)} $$\n",
    "\n",
    "<b>F-1 Score</b>\n",
    "The F-1 Score/Measure can be understood as the harmonic mean of both the precision and recall. The formula for this is,\n",
    "\n",
    "$$ F1 = 2 * {Precision(P) * Recall(R) \\over Precision(P) + Recall(R)} $$\n",
    "\n",
    "Given these 3 evaluation metrics and our objective of being able to help users gauge if a movie is worth the time invested, I have chosen to focus on having a <b>higher</b> recall in my model as this will allow it to capture as much positive/negative sentiments that have been written in a movie's reviews.\n",
    "\n",
    "This can be understood by the example, <i>of all the movies listed as being good, how many of them have been correctly classified by our model</i>.\n",
    "\n",
    "Besides focusing on just a higher recall, another key metric we will be looking at is a variation of the F-Score, known as the <b>F-2 Score</b>.\n",
    "\n",
    "While the F-1 Score weighs both the Precision and Recall rate equally, the F-2 Score puts a <b>larger emphasis</b> on the recall. The formula for this is,\n",
    "\n",
    "$$ F2 = 5 ( {Precision(P) * Recall(R) \\over ((4 * Precision(P)) + Recall(R)} ) $$\n",
    "\n",
    "In conclusion, I have chosen to focus on the F-2 Score to evaluate the performance of my model due to the fact that the recall rate is given a higher emphasis, which suits the primary objective of my classifier."
   ]
  },
  {
   "cell_type": "markdown",
   "id": "f3b0ae74",
   "metadata": {},
   "source": [
    "## (2) : Implementation"
   ]
  },
  {
   "cell_type": "markdown",
   "id": "7c6baaea",
   "metadata": {},
   "source": [
    "### Data Retrieval"
   ]
  },
  {
   "cell_type": "markdown",
   "id": "c027c39e",
   "metadata": {},
   "source": [
    "For the first step, we will preprocess the dataset that i have stored locally on my machine."
   ]
  },
  {
   "cell_type": "code",
   "execution_count": 2,
   "id": "ff4071f3",
   "metadata": {},
   "outputs": [],
   "source": [
    "#Importing the relevant libraries\n",
    "import sys\n",
    "import re\n",
    "import nltk\n",
    "import os\n",
    "import pandas as pd\n",
    "import numpy as np\n",
    "import glob\n",
    "\n",
    "import gensim\n",
    "from gensim.models import Word2Vec\n",
    "\n",
    "from nltk.tokenize import word_tokenize\n",
    "from nltk.corpus import stopwords\n",
    "from nltk.stem import WordNetLemmatizer\n",
    "\n",
    "from sklearn.utils import shuffle\n",
    "from sklearn.model_selection import train_test_split\n",
    "\n",
    "import matplotlib.pyplot as plt"
   ]
  },
  {
   "cell_type": "code",
   "execution_count": 3,
   "id": "50ef5be3",
   "metadata": {},
   "outputs": [
    {
     "name": "stderr",
     "output_type": "stream",
     "text": [
      "[nltk_data] Downloading package wordnet to\n",
      "[nltk_data]     C:\\Users\\Owen\\AppData\\Roaming\\nltk_data...\n",
      "[nltk_data]   Package wordnet is already up-to-date!\n",
      "[nltk_data] Downloading package omw-1.4 to\n",
      "[nltk_data]     C:\\Users\\Owen\\AppData\\Roaming\\nltk_data...\n",
      "[nltk_data]   Package omw-1.4 is already up-to-date!\n"
     ]
    },
    {
     "data": {
      "text/plain": [
       "True"
      ]
     },
     "execution_count": 3,
     "metadata": {},
     "output_type": "execute_result"
    }
   ],
   "source": [
    "nltk.download('wordnet')\n",
    "nltk.download('omw-1.4')"
   ]
  },
  {
   "cell_type": "code",
   "execution_count": 4,
   "id": "211598e6",
   "metadata": {},
   "outputs": [],
   "source": [
    "# ParseReview function - Add each review in text files to a list\n",
    "# before we add them to a new dataframe\n",
    "def parseReviews(file_list):\n",
    "    review_list = []\n",
    "\n",
    "    for file in file_list:\n",
    "        with open(file, 'r', encoding='utf-8') as review:\n",
    "            content = review.read()\n",
    "            review_list.append(content)\n",
    "            \n",
    "    return review_list\n",
    "\n",
    "# getFilmScores function - Tokenise the full path of each file and extract the score ?/10\n",
    "# Example: \"dataset/train/neg\\0_3.txt\"\n",
    "# Tokenise on \"\\\\\" -> 'dataset/train/neg', '0_3.txt'\n",
    "# Tokenise on \"_\" -> '0', '3.txt'\n",
    "# Tokenise on \".\" -> '3', '.txt'\n",
    "# Film has a score of 3 on the scale of 10\n",
    "def getFilmScores(file_list):\n",
    "    score_list = []\n",
    "\n",
    "    for file in file_list:\n",
    "        file_name = file.split('\\\\')\n",
    "        file_tokens = file_name[1].split('_')\n",
    "        file_score = file_tokens[1].split('.')\n",
    "\n",
    "        score_list.append(file_score[0])\n",
    "        \n",
    "    return score_list"
   ]
  },
  {
   "cell_type": "code",
   "execution_count": 5,
   "id": "16574119",
   "metadata": {},
   "outputs": [],
   "source": [
    "# Use pandas .read_csv function to read the .txt files in specified directory\n",
    "directory = \"dataset/train/neg\"\n",
    "\n",
    "# Use the glob module to find all pathnames that match the directory\n",
    "file_list = glob.glob(directory + \"/*.txt\")"
   ]
  },
  {
   "cell_type": "markdown",
   "id": "f6c3126d",
   "metadata": {},
   "source": [
    "### Data Snapshot(s)"
   ]
  },
  {
   "cell_type": "code",
   "execution_count": 6,
   "id": "e74c0f79",
   "metadata": {
    "scrolled": true
   },
   "outputs": [
    {
     "data": {
      "text/html": [
       "<div>\n",
       "<style scoped>\n",
       "    .dataframe tbody tr th:only-of-type {\n",
       "        vertical-align: middle;\n",
       "    }\n",
       "\n",
       "    .dataframe tbody tr th {\n",
       "        vertical-align: top;\n",
       "    }\n",
       "\n",
       "    .dataframe thead th {\n",
       "        text-align: right;\n",
       "    }\n",
       "</style>\n",
       "<table border=\"1\" class=\"dataframe\">\n",
       "  <thead>\n",
       "    <tr style=\"text-align: right;\">\n",
       "      <th></th>\n",
       "      <th>review_content</th>\n",
       "      <th>film_score</th>\n",
       "      <th>sentiment</th>\n",
       "    </tr>\n",
       "  </thead>\n",
       "  <tbody>\n",
       "    <tr>\n",
       "      <th>0</th>\n",
       "      <td>Story of a man who has unnatural feelings for ...</td>\n",
       "      <td>3</td>\n",
       "      <td>neg</td>\n",
       "    </tr>\n",
       "    <tr>\n",
       "      <th>1</th>\n",
       "      <td>Airport '77 starts as a brand new luxury 747 p...</td>\n",
       "      <td>4</td>\n",
       "      <td>neg</td>\n",
       "    </tr>\n",
       "    <tr>\n",
       "      <th>2</th>\n",
       "      <td>This film lacked something I couldn't put my f...</td>\n",
       "      <td>4</td>\n",
       "      <td>neg</td>\n",
       "    </tr>\n",
       "    <tr>\n",
       "      <th>3</th>\n",
       "      <td>Sorry everyone,,, I know this is supposed to b...</td>\n",
       "      <td>1</td>\n",
       "      <td>neg</td>\n",
       "    </tr>\n",
       "    <tr>\n",
       "      <th>4</th>\n",
       "      <td>When I was little my parents took me along to ...</td>\n",
       "      <td>1</td>\n",
       "      <td>neg</td>\n",
       "    </tr>\n",
       "    <tr>\n",
       "      <th>5</th>\n",
       "      <td>\"It appears that many critics find the idea of...</td>\n",
       "      <td>3</td>\n",
       "      <td>neg</td>\n",
       "    </tr>\n",
       "    <tr>\n",
       "      <th>6</th>\n",
       "      <td>The second attempt by a New York intellectual ...</td>\n",
       "      <td>3</td>\n",
       "      <td>neg</td>\n",
       "    </tr>\n",
       "    <tr>\n",
       "      <th>7</th>\n",
       "      <td>I don't know who to blame, the timid writers o...</td>\n",
       "      <td>4</td>\n",
       "      <td>neg</td>\n",
       "    </tr>\n",
       "    <tr>\n",
       "      <th>8</th>\n",
       "      <td>This film is mediocre at best. Angie Harmon is...</td>\n",
       "      <td>1</td>\n",
       "      <td>neg</td>\n",
       "    </tr>\n",
       "    <tr>\n",
       "      <th>9</th>\n",
       "      <td>The film is bad. There is no other way to say ...</td>\n",
       "      <td>2</td>\n",
       "      <td>neg</td>\n",
       "    </tr>\n",
       "    <tr>\n",
       "      <th>10</th>\n",
       "      <td>This film is one giant pant load. Paul Schrade...</td>\n",
       "      <td>1</td>\n",
       "      <td>neg</td>\n",
       "    </tr>\n",
       "    <tr>\n",
       "      <th>11</th>\n",
       "      <td>The plot for Descent, if it actually can be ca...</td>\n",
       "      <td>4</td>\n",
       "      <td>neg</td>\n",
       "    </tr>\n",
       "    <tr>\n",
       "      <th>12</th>\n",
       "      <td>Plot is not worth discussion even if it hints ...</td>\n",
       "      <td>3</td>\n",
       "      <td>neg</td>\n",
       "    </tr>\n",
       "    <tr>\n",
       "      <th>13</th>\n",
       "      <td>This film is about a male escort getting invol...</td>\n",
       "      <td>3</td>\n",
       "      <td>neg</td>\n",
       "    </tr>\n",
       "    <tr>\n",
       "      <th>14</th>\n",
       "      <td>This movie must be in line for the most boring...</td>\n",
       "      <td>1</td>\n",
       "      <td>neg</td>\n",
       "    </tr>\n",
       "    <tr>\n",
       "      <th>15</th>\n",
       "      <td>A worn-out plot of a man who takes the rap for...</td>\n",
       "      <td>1</td>\n",
       "      <td>neg</td>\n",
       "    </tr>\n",
       "    <tr>\n",
       "      <th>16</th>\n",
       "      <td>I saw this movie at a drive-in in 1959. Until ...</td>\n",
       "      <td>2</td>\n",
       "      <td>neg</td>\n",
       "    </tr>\n",
       "    <tr>\n",
       "      <th>17</th>\n",
       "      <td>Ghost of Dragstrip Hollow is a typical 1950's ...</td>\n",
       "      <td>2</td>\n",
       "      <td>neg</td>\n",
       "    </tr>\n",
       "    <tr>\n",
       "      <th>18</th>\n",
       "      <td>\"Ghost of Dragstrip Hollow\" was one of the man...</td>\n",
       "      <td>4</td>\n",
       "      <td>neg</td>\n",
       "    </tr>\n",
       "    <tr>\n",
       "      <th>19</th>\n",
       "      <td>\"Ghost of Dragstrip Hollow\" appears to take pl...</td>\n",
       "      <td>4</td>\n",
       "      <td>neg</td>\n",
       "    </tr>\n",
       "  </tbody>\n",
       "</table>\n",
       "</div>"
      ],
      "text/plain": [
       "                                       review_content film_score sentiment\n",
       "0   Story of a man who has unnatural feelings for ...          3       neg\n",
       "1   Airport '77 starts as a brand new luxury 747 p...          4       neg\n",
       "2   This film lacked something I couldn't put my f...          4       neg\n",
       "3   Sorry everyone,,, I know this is supposed to b...          1       neg\n",
       "4   When I was little my parents took me along to ...          1       neg\n",
       "5   \"It appears that many critics find the idea of...          3       neg\n",
       "6   The second attempt by a New York intellectual ...          3       neg\n",
       "7   I don't know who to blame, the timid writers o...          4       neg\n",
       "8   This film is mediocre at best. Angie Harmon is...          1       neg\n",
       "9   The film is bad. There is no other way to say ...          2       neg\n",
       "10  This film is one giant pant load. Paul Schrade...          1       neg\n",
       "11  The plot for Descent, if it actually can be ca...          4       neg\n",
       "12  Plot is not worth discussion even if it hints ...          3       neg\n",
       "13  This film is about a male escort getting invol...          3       neg\n",
       "14  This movie must be in line for the most boring...          1       neg\n",
       "15  A worn-out plot of a man who takes the rap for...          1       neg\n",
       "16  I saw this movie at a drive-in in 1959. Until ...          2       neg\n",
       "17  Ghost of Dragstrip Hollow is a typical 1950's ...          2       neg\n",
       "18  \"Ghost of Dragstrip Hollow\" was one of the man...          4       neg\n",
       "19  \"Ghost of Dragstrip Hollow\" appears to take pl...          4       neg"
      ]
     },
     "execution_count": 6,
     "metadata": {},
     "output_type": "execute_result"
    }
   ],
   "source": [
    "# Call parseReviews function and add the contents of the list to a dataframe\n",
    "review_list = parseReviews(file_list)\n",
    "\n",
    "# Call getFilmScores function to add film score (?/10) to a list and to the dataframe\n",
    "score_list = getFilmScores(file_list)\n",
    "\n",
    "# Assign a binary label to each row (neg/pos)\n",
    "neg_reviews = pd.DataFrame({'review_content': review_list, 'film_score': score_list, 'sentiment': \"neg\"})\n",
    "\n",
    "# Sanity check of top 20 rows\n",
    "neg_reviews[:20]"
   ]
  },
  {
   "cell_type": "code",
   "execution_count": 7,
   "id": "445ba4d8",
   "metadata": {},
   "outputs": [],
   "source": [
    "# Repeat for the positive reviews in our training set\n",
    "directory = \"dataset/train/pos\"\n",
    "\n",
    "file_list = glob.glob(directory + '/*.txt')"
   ]
  },
  {
   "cell_type": "code",
   "execution_count": 8,
   "id": "b7cc92eb",
   "metadata": {
    "scrolled": true
   },
   "outputs": [
    {
     "data": {
      "text/html": [
       "<div>\n",
       "<style scoped>\n",
       "    .dataframe tbody tr th:only-of-type {\n",
       "        vertical-align: middle;\n",
       "    }\n",
       "\n",
       "    .dataframe tbody tr th {\n",
       "        vertical-align: top;\n",
       "    }\n",
       "\n",
       "    .dataframe thead th {\n",
       "        text-align: right;\n",
       "    }\n",
       "</style>\n",
       "<table border=\"1\" class=\"dataframe\">\n",
       "  <thead>\n",
       "    <tr style=\"text-align: right;\">\n",
       "      <th></th>\n",
       "      <th>review_content</th>\n",
       "      <th>film_score</th>\n",
       "      <th>sentiment</th>\n",
       "    </tr>\n",
       "  </thead>\n",
       "  <tbody>\n",
       "    <tr>\n",
       "      <th>0</th>\n",
       "      <td>Bromwell High is a cartoon comedy. It ran at t...</td>\n",
       "      <td>9</td>\n",
       "      <td>pos</td>\n",
       "    </tr>\n",
       "    <tr>\n",
       "      <th>1</th>\n",
       "      <td>Homelessness (or Houselessness as George Carli...</td>\n",
       "      <td>8</td>\n",
       "      <td>pos</td>\n",
       "    </tr>\n",
       "    <tr>\n",
       "      <th>2</th>\n",
       "      <td>Brilliant over-acting by Lesley Ann Warren. Be...</td>\n",
       "      <td>10</td>\n",
       "      <td>pos</td>\n",
       "    </tr>\n",
       "    <tr>\n",
       "      <th>3</th>\n",
       "      <td>This is easily the most underrated film inn th...</td>\n",
       "      <td>7</td>\n",
       "      <td>pos</td>\n",
       "    </tr>\n",
       "    <tr>\n",
       "      <th>4</th>\n",
       "      <td>This is not the typical Mel Brooks film. It wa...</td>\n",
       "      <td>8</td>\n",
       "      <td>pos</td>\n",
       "    </tr>\n",
       "    <tr>\n",
       "      <th>5</th>\n",
       "      <td>This isn't the comedic Robin Williams, nor is ...</td>\n",
       "      <td>8</td>\n",
       "      <td>pos</td>\n",
       "    </tr>\n",
       "    <tr>\n",
       "      <th>6</th>\n",
       "      <td>Yes its an art... to successfully make a slow ...</td>\n",
       "      <td>7</td>\n",
       "      <td>pos</td>\n",
       "    </tr>\n",
       "    <tr>\n",
       "      <th>7</th>\n",
       "      <td>In this \"critically acclaimed psychological th...</td>\n",
       "      <td>7</td>\n",
       "      <td>pos</td>\n",
       "    </tr>\n",
       "    <tr>\n",
       "      <th>8</th>\n",
       "      <td>THE NIGHT LISTENER (2006) **1/2 Robin Williams...</td>\n",
       "      <td>7</td>\n",
       "      <td>pos</td>\n",
       "    </tr>\n",
       "    <tr>\n",
       "      <th>9</th>\n",
       "      <td>You know, Robin Williams, God bless him, is co...</td>\n",
       "      <td>7</td>\n",
       "      <td>pos</td>\n",
       "    </tr>\n",
       "    <tr>\n",
       "      <th>10</th>\n",
       "      <td>When I first read Armistead Maupins story I wa...</td>\n",
       "      <td>9</td>\n",
       "      <td>pos</td>\n",
       "    </tr>\n",
       "    <tr>\n",
       "      <th>11</th>\n",
       "      <td>I liked the film. Some of the action scenes we...</td>\n",
       "      <td>8</td>\n",
       "      <td>pos</td>\n",
       "    </tr>\n",
       "    <tr>\n",
       "      <th>12</th>\n",
       "      <td>There are many illnesses born in the mind of m...</td>\n",
       "      <td>7</td>\n",
       "      <td>pos</td>\n",
       "    </tr>\n",
       "    <tr>\n",
       "      <th>13</th>\n",
       "      <td>I enjoyed The Night Listener very much. It's o...</td>\n",
       "      <td>9</td>\n",
       "      <td>pos</td>\n",
       "    </tr>\n",
       "    <tr>\n",
       "      <th>14</th>\n",
       "      <td>The Night Listener is probably not one of Will...</td>\n",
       "      <td>8</td>\n",
       "      <td>pos</td>\n",
       "    </tr>\n",
       "    <tr>\n",
       "      <th>15</th>\n",
       "      <td>Like one of the previous commenters said, this...</td>\n",
       "      <td>7</td>\n",
       "      <td>pos</td>\n",
       "    </tr>\n",
       "    <tr>\n",
       "      <th>16</th>\n",
       "      <td>The Night Listener held my attention, with Rob...</td>\n",
       "      <td>8</td>\n",
       "      <td>pos</td>\n",
       "    </tr>\n",
       "    <tr>\n",
       "      <th>17</th>\n",
       "      <td>Popular radio storyteller Gabriel No one(Robin...</td>\n",
       "      <td>8</td>\n",
       "      <td>pos</td>\n",
       "    </tr>\n",
       "    <tr>\n",
       "      <th>18</th>\n",
       "      <td>If there is one thing to recommend about this ...</td>\n",
       "      <td>8</td>\n",
       "      <td>pos</td>\n",
       "    </tr>\n",
       "    <tr>\n",
       "      <th>19</th>\n",
       "      <td>I absolutely LOVED this film! I do not at all ...</td>\n",
       "      <td>9</td>\n",
       "      <td>pos</td>\n",
       "    </tr>\n",
       "  </tbody>\n",
       "</table>\n",
       "</div>"
      ],
      "text/plain": [
       "                                       review_content film_score sentiment\n",
       "0   Bromwell High is a cartoon comedy. It ran at t...          9       pos\n",
       "1   Homelessness (or Houselessness as George Carli...          8       pos\n",
       "2   Brilliant over-acting by Lesley Ann Warren. Be...         10       pos\n",
       "3   This is easily the most underrated film inn th...          7       pos\n",
       "4   This is not the typical Mel Brooks film. It wa...          8       pos\n",
       "5   This isn't the comedic Robin Williams, nor is ...          8       pos\n",
       "6   Yes its an art... to successfully make a slow ...          7       pos\n",
       "7   In this \"critically acclaimed psychological th...          7       pos\n",
       "8   THE NIGHT LISTENER (2006) **1/2 Robin Williams...          7       pos\n",
       "9   You know, Robin Williams, God bless him, is co...          7       pos\n",
       "10  When I first read Armistead Maupins story I wa...          9       pos\n",
       "11  I liked the film. Some of the action scenes we...          8       pos\n",
       "12  There are many illnesses born in the mind of m...          7       pos\n",
       "13  I enjoyed The Night Listener very much. It's o...          9       pos\n",
       "14  The Night Listener is probably not one of Will...          8       pos\n",
       "15  Like one of the previous commenters said, this...          7       pos\n",
       "16  The Night Listener held my attention, with Rob...          8       pos\n",
       "17  Popular radio storyteller Gabriel No one(Robin...          8       pos\n",
       "18  If there is one thing to recommend about this ...          8       pos\n",
       "19  I absolutely LOVED this film! I do not at all ...          9       pos"
      ]
     },
     "execution_count": 8,
     "metadata": {},
     "output_type": "execute_result"
    }
   ],
   "source": [
    "review_list = parseReviews(file_list)\n",
    "score_list = getFilmScores(file_list)\n",
    "pos_reviews = pd.DataFrame({'review_content': review_list, 'film_score': score_list, 'sentiment': \"pos\"})\n",
    "\n",
    "pos_reviews[:20]"
   ]
  },
  {
   "cell_type": "markdown",
   "id": "19a237e5",
   "metadata": {},
   "source": [
    "### Dataframe size comparison"
   ]
  },
  {
   "cell_type": "markdown",
   "id": "305a125d",
   "metadata": {},
   "source": [
    "Although we know from the README that came with the dataset that the data should be even, we can create a simple bar chart to compare the number of positive and negative reviews to confirm that it is in fact true.\n",
    "\n",
    "I will be using the built-in functions from pandas to plot a simple bar chart for comparison."
   ]
  },
  {
   "cell_type": "code",
   "execution_count": 9,
   "id": "5f4e49c9",
   "metadata": {},
   "outputs": [
    {
     "data": {
      "text/plain": [
       "<module 'matplotlib.pyplot' from 'C:\\\\Users\\\\Owen\\\\anaconda3\\\\lib\\\\site-packages\\\\matplotlib\\\\pyplot.py'>"
      ]
     },
     "execution_count": 9,
     "metadata": {},
     "output_type": "execute_result"
    },
    {
     "data": {
      "image/png": "[encoded data removed]",
      "text/plain": [
       "<Figure size 640x480 with 1 Axes>"
      ]
     },
     "metadata": {},
     "output_type": "display_data"
    }
   ],
   "source": [
    "barplot = pd.DataFrame(\n",
    "    {\"dataset_size\": [len(pos_reviews.index), len(neg_reviews.index)]},\n",
    "        index=[\"Positive Reviews\", \"Negative Reviews\"])\n",
    "\n",
    "barplot.plot(kind=\"bar\")\n",
    "plt.xticks(rotation=0, horizontalalignment=\"center\")\n",
    "plt.title(\"Dataset size comparison between Postive and Negative Reviews\")\n",
    "plt.ylabel(\"Size of DataFrame\")  \n",
    "\n",
    "# display bar chart\n",
    "plt"
   ]
  },
  {
   "cell_type": "markdown",
   "id": "4a986bd5",
   "metadata": {},
   "source": [
    "As can be seen above, both pos/neg review dataframes have the same size of 12500 and thus have an equal representation in the dataset.\n",
    "\n",
    "A balanced dataset ensures that that is no biasness towards either end in our data and that there is fair treatment to all our classes."
   ]
  },
  {
   "cell_type": "markdown",
   "id": "b73775b4",
   "metadata": {},
   "source": [
    "### Preprocessing"
   ]
  },
  {
   "cell_type": "markdown",
   "id": "43f21425",
   "metadata": {},
   "source": [
    "Now that we have taken a look at the dataframes, I will be converting the words within the <b>postive</b> and <b>negative</b> DataFrames into a <b>Continuous Bag of Words(CBoW)</b> format.\n",
    "\n",
    "The reason for this over a normal Bag Of Words(BoW) for example, is due to contextual information being important in each review, a BoW does not consider the sequence of words and each of them are treated independently. However, a CBoW does the opposite, taking into account word order and context, which is important for our binary classification."
   ]
  },
  {
   "cell_type": "markdown",
   "id": "73f53acf",
   "metadata": {},
   "source": [
    "I have chosen to use the Word2Vec algorithm from the gensim module to represent my CBoW.\n",
    "\n",
    "But, before I can do so, there is preprocessing to the text that must be done.\n",
    "\n",
    "The steps I will take to prepare my text are,\n",
    "- Tokenization,\n",
    "- Stopword Removal,\n",
    "- Removal of special characters and numbers,\n",
    "- Text Lowercasing,\n",
    "- Lemmatization,\n",
    "- Feature Scaling.\n",
    "\n",
    "Both lemmatization and stemming were considered in preprocessing, with lemmatization ultimately being chosen. Since the context of words in the review are a major factor in keeping the the core meaning and sentiment, i have opted to use lemmatization instead."
   ]
  },
  {
   "cell_type": "code",
   "execution_count": 10,
   "id": "50d736a6",
   "metadata": {},
   "outputs": [],
   "source": [
    "# Preprocess review content with steps mentioned above (tokenization, stopword removal etc.)\n",
    "def preprocess_text_data(text_content):\n",
    "        # Initialize lemmatizer\n",
    "        lemma = WordNetLemmatizer()\n",
    "        # Use regex to remove special characters and integers\n",
    "        text_content = re.sub('[^a-zA-Z]', ' ', text_content)\n",
    "\n",
    "        # Transform characters to lowercase and tokenize them\n",
    "        text_content = text_content.lower()\n",
    "        w_tokens = word_tokenize(text_content)\n",
    "\n",
    "        # Lemmative tokenized words to extract root meaning of word\n",
    "#         lw_tokens = [lemma.lemmatize(w_token) for w_token in w_tokens]\n",
    "        \n",
    "        # run remove stop words function\n",
    "        preprocessed_text = stop_words_removal(w_tokens)\n",
    "\n",
    "        return preprocessed_text\n",
    "\n",
    "    \n",
    "# Remove english stop words from the reviews to increase search performance\n",
    "def stop_words_removal(text_content):\n",
    "    # Remove stop words in text content\n",
    "    stop_words = set(stopwords.words('english'))\n",
    "    fil_tokens = tokens_without_sw = [word for word in text_content if not word in stop_words]\n",
    "    \n",
    "    # Re-append the cleaned/filtered content into a string\n",
    "    fil_string = ' '.join(fil_tokens)\n",
    "    return fil_string"
   ]
  },
  {
   "cell_type": "markdown",
   "id": "9e93d1e1",
   "metadata": {},
   "source": [
    "### Data Splitting"
   ]
  },
  {
   "cell_type": "markdown",
   "id": "71ab03e3",
   "metadata": {},
   "source": [
    "Before any training is done, the data will also be shuffled so as to avoid any sequential bias and also promote fairness across data by preventing the model from learning to rely on specific order of examples.\n",
    "\n",
    "Of the 25 thousand total reviews in both the training and testing sets, I will split them in the ratio of <b>[80 : 20]</b>. 80% for data training from the training set and 20% for data testing from the testing set, all chosen at random by shuffling the entries as mentioned previously.\n",
    "\n",
    "\n",
    "The identified features of this classifier are the 'review_content' and the identified labels will be the 'sentiment'."
   ]
  },
  {
   "cell_type": "code",
   "execution_count": 11,
   "id": "15da4fa7",
   "metadata": {},
   "outputs": [],
   "source": [
    "# Create new dataframe for text preprocessing\n",
    "processed_df = pd.DataFrame()\n",
    "\n",
    "\n",
    "# Append entries from each to the DataFrame for splitting/shuffling\n",
    "processed_df = pd.concat([pos_reviews, neg_reviews])\n",
    "\n",
    "# Shuffle entries and update indices\n",
    "processed_df = shuffle(processed_df)\n",
    "processed_df.reset_index(inplace=True, drop=True)\n",
    "\n",
    "# Split features and label\n",
    "x_data_features = processed_df['review_content']\n",
    "y_data_labels = processed_df['sentiment']"
   ]
  },
  {
   "cell_type": "code",
   "execution_count": 12,
   "id": "a923a513",
   "metadata": {},
   "outputs": [
    {
     "name": "stdout",
     "output_type": "stream",
     "text": [
      "<class 'pandas.core.frame.DataFrame'>\n",
      "RangeIndex: 25000 entries, 0 to 24999\n",
      "Data columns (total 3 columns):\n",
      " #   Column          Non-Null Count  Dtype \n",
      "---  ------          --------------  ----- \n",
      " 0   review_content  25000 non-null  object\n",
      " 1   film_score      25000 non-null  object\n",
      " 2   sentiment       25000 non-null  object\n",
      "dtypes: object(3)\n",
      "memory usage: 586.1+ KB\n"
     ]
    }
   ],
   "source": [
    "processed_df.info()"
   ]
  },
  {
   "cell_type": "code",
   "execution_count": 14,
   "id": "8ed58943",
   "metadata": {
    "scrolled": true
   },
   "outputs": [
    {
     "name": "stdout",
     "output_type": "stream",
     "text": [
      "Split Dataset size(s)\n",
      "X_train:  (20000,)\n",
      "X_test:  (5000,)\n",
      "y_train:  (20000,)\n",
      "y_test:  (5000,)\n"
     ]
    }
   ],
   "source": [
    "# Split data using 80 : 20 ratio (training : testing)\n",
    "X_train, X_test, y_train, y_test = train_test_split(x_data_features, y_data_labels, test_size=0.20, random_state=1)\n",
    "\n",
    "# ratio should be 20000 training data and 5000 testing data.\n",
    "print('Split Dataset size(s)')\n",
    "print('X_train: ', X_train.shape)\n",
    "print('X_test: ', X_test.shape)\n",
    "print('y_train: ', y_train.shape)\n",
    "print('y_test: ', y_test.shape)"
   ]
  },
  {
   "cell_type": "code",
   "execution_count": 15,
   "id": "a0a703d2",
   "metadata": {},
   "outputs": [],
   "source": [
    "X_train_df = pd.DataFrame()\n",
    "\n",
    "X_train_df['processed_review'] = X_train.apply(preprocess_text_data)\n",
    "X_train_df = X_train_df['processed_review'].tolist()"
   ]
  },
  {
   "cell_type": "code",
   "execution_count": 17,
   "id": "8b3f250a",
   "metadata": {},
   "outputs": [
    {
     "name": "stdout",
     "output_type": "stream",
     "text": [
      "Number of Features:  100\n"
     ]
    }
   ],
   "source": [
    "# Tokenize the preprocessed reviews\n",
    "tokenized_reviews = [word_tokenize(review) for review in X_train_df]\n",
    "\n",
    "# Train the Word2Vec model (CBoW)\n",
    "cbow_model = Word2Vec(sentences = tokenized_reviews, min_count = 1, vector_size = 100, workers = 6, window = 5, cbow_mean = 1)\n",
    "\n",
    "# Get the dimensionality of our CBoW Model, needed when we are training our SVM Classifier\n",
    "n_features = cbow_model.vector_size\n",
    "print(\"Number of Features: \", n_features)"
   ]
  },
  {
   "cell_type": "markdown",
   "id": "70086a71",
   "metadata": {},
   "source": [
    "### Baseline Performance/Model"
   ]
  },
  {
   "cell_type": "markdown",
   "id": "e7bcdad0",
   "metadata": {},
   "source": [
    "For the baseline model, a <b>Logistic Regression</b> model was used with the existing CBoW text representation we created during our preprocessing.\n",
    "\n",
    "Logistic Regression was chosen as the baseline as,\n",
    "- it is one of the easier models to implement and train,\n",
    "- it is one of the most efficient models when outcomes have linearly separable distinctions.\n",
    "\n",
    "The steps to accomplish this are,\n",
    "- generate word vectors from the CBoW model we created,\n",
    "- init and train Logistic Regression model using sckit-learn,\n",
    "- make predictions of the baseline,\n",
    "- evaluate metrics of the model"
   ]
  },
  {
   "cell_type": "code",
   "execution_count": 18,
   "id": "91f8e475",
   "metadata": {},
   "outputs": [],
   "source": [
    "# import sklearn modules for use of logistic regression and its features\n",
    "from sklearn.feature_extraction.text import CountVectorizer\n",
    "from sklearn.linear_model import LogisticRegression\n",
    "from sklearn.metrics import precision_score, recall_score"
   ]
  },
  {
   "cell_type": "markdown",
   "id": "1ae5d16c",
   "metadata": {},
   "source": [
    "### Word Vectors"
   ]
  },
  {
   "cell_type": "code",
   "execution_count": 19,
   "id": "408718ef",
   "metadata": {
    "scrolled": false
   },
   "outputs": [],
   "source": [
    "# Create Word Vector based on training set\n",
    "X_train_word_vector = np.array([np.mean([cbow_model.wv[word] for word in review], axis=0) for review in tokenized_reviews])"
   ]
  },
  {
   "cell_type": "markdown",
   "id": "2d888de1",
   "metadata": {},
   "source": [
    "A similar line of code was used to create a word vector based on the 20% X_test data, but a ValueError was encountered as Python was attempting to assign the whole sequence to the X_test_word_vector array.\n",
    "\n",
    "The solution for this was to create an empty numpy array in the shape of the proposed word vector, \"dataset length * vector_size\". "
   ]
  },
  {
   "cell_type": "code",
   "execution_count": 20,
   "id": "91839efb",
   "metadata": {},
   "outputs": [],
   "source": [
    "# Create Word Vector based on testing set\n",
    "X_test_word_vector = np.zeros((len(X_test), 100))\n",
    "\n",
    "# \n",
    "for i, review in enumerate(X_test):\n",
    "    word_vectors = [cbow_model.wv[word] for word in review.split() if word in cbow_model.wv]\n",
    "    if word_vectors:\n",
    "        mean_vector = np.mean(word_vectors, axis=0)\n",
    "        X_test_word_vector[i] = mean_vector"
   ]
  },
  {
   "cell_type": "code",
   "execution_count": 35,
   "id": "c18f018b",
   "metadata": {},
   "outputs": [
    {
     "data": {
      "text/plain": [
       "LogisticRegression(max_iter=300)"
      ]
     },
     "execution_count": 35,
     "metadata": {},
     "output_type": "execute_result"
    }
   ],
   "source": [
    "baseline_clf = LogisticRegression(max_iter=300)\n",
    "baseline_clf.fit(X_train_word_vector, y_train)"
   ]
  },
  {
   "cell_type": "code",
   "execution_count": 37,
   "id": "61e9dcea",
   "metadata": {},
   "outputs": [],
   "source": [
    "y_pred = baseline_clf.predict(X_test_word_vector)"
   ]
  },
  {
   "cell_type": "code",
   "execution_count": 38,
   "id": "dae676e0",
   "metadata": {},
   "outputs": [],
   "source": [
    "precision = precision_score(y_test, y_pred, pos_label='pos')\n",
    "recall = recall_score(y_test, y_pred, pos_label='pos')"
   ]
  },
  {
   "cell_type": "markdown",
   "id": "20031bb7",
   "metadata": {},
   "source": [
    "As finding the F2 Score is not an existing function in the sklearn module, we will be calculating it using the aforementioned formula,\n",
    "\n",
    "$$ F2 = 5 ( {Precision(P) * Recall(R) \\over ((4 * Precision(P)) + Recall(R)} ) $$"
   ]
  },
  {
   "cell_type": "code",
   "execution_count": 33,
   "id": "ad9eb329",
   "metadata": {},
   "outputs": [],
   "source": [
    "def find_f2_score(precision, recall):\n",
    "    f_two = 5 * (precision * recall / ((4 * precision) + recall))\n",
    "    \n",
    "    return f_two\n",
    "\n",
    "f2_score = find_f2_score(precision, recall)\n"
   ]
  },
  {
   "cell_type": "markdown",
   "id": "76b1295a",
   "metadata": {},
   "source": [
    "### Performance of the Logistic Regression Model (Baseline)"
   ]
  },
  {
   "cell_type": "code",
   "execution_count": 39,
   "id": "fc4d21e0",
   "metadata": {},
   "outputs": [
    {
     "name": "stdout",
     "output_type": "stream",
     "text": [
      "===Logistic Regression Evaluation Metrics===\n",
      "Precision:  0.8188795088257866 %\n",
      "Recall:  0.8362068965517241 %\n",
      "F2-Score:  0.8326830029655065 %\n"
     ]
    }
   ],
   "source": [
    "print(\"===Logistic Regression Evaluation Metrics===\")\n",
    "print('Precision: ', precision, '%')\n",
    "print('Recall: ', recall, '%')\n",
    "print('F2-Score: ', f2_score, '%')"
   ]
  },
  {
   "cell_type": "markdown",
   "id": "6b51dcb6",
   "metadata": {},
   "source": [
    "### Classification Approach"
   ]
  },
  {
   "cell_type": "markdown",
   "id": "98d6979b",
   "metadata": {},
   "source": [
    "For our approach, a <b>Support Vector Machine</b> classifier will be used and compared to the baseline.\n",
    "\n",
    "The justification behind this is that,\n",
    "- SVM works better with unstructured and semi-structured data such as text, while logistic regression requires independent variables that have already been identified.\n",
    "- SVM is much less vulnerable to overfitting compared to logistic regression.\n",
    "- SVM is deterministic, while logistic regression is probalistic\n",
    "\n",
    "Sources:\n",
    "- <a href=\"https://www.geeksforgeeks.org/differentiate-between-support-vector-machine-and-logistic-regression/\">Differentiate between Support Vector Machine and Logistic Regression</a>\n",
    "- <a href=\"https://obgyn.onlinelibrary.wiley.com/doi/pdf/10.1002/uog.2791\">Support vector machines versus logistic regression: improving prospective performance in\n",
    "clinical decision-making</a>"
   ]
  },
  {
   "cell_type": "code",
   "execution_count": 40,
   "id": "803957da",
   "metadata": {},
   "outputs": [],
   "source": [
    "from sklearn import svm\n",
    "from sklearn.feature_extraction.text import TfidfVectorizer"
   ]
  },
  {
   "cell_type": "code",
   "execution_count": 41,
   "id": "3d4c19b7",
   "metadata": {},
   "outputs": [
    {
     "data": {
      "text/plain": [
       "SVC(kernel='linear')"
      ]
     },
     "execution_count": 41,
     "metadata": {},
     "output_type": "execute_result"
    }
   ],
   "source": [
    "# Initialise swm classifier from sklearn toolkit\n",
    "svm_clf = svm.SVC(kernel='linear')\n",
    "\n",
    "# Create a TF-IDF Vectorizer, SVM requires words to be stored as numerical features\n",
    "tfidf_vectorizer = TfidfVectorizer()\n",
    "X_train_tfidf_vector = tfidf_vectorizer.fit_transform(X_train)\n",
    "X_test_tfidf_vector = tfidf_vectorizer.transform(X_test)\n",
    "\n",
    "# Fit SVM model according to given training data\n",
    "svm_clf.fit(X_train_tfidf_vector, y_train)"
   ]
  },
  {
   "cell_type": "code",
   "execution_count": 42,
   "id": "6253f2b1",
   "metadata": {},
   "outputs": [],
   "source": [
    "# Predict the sentiment labels for the test data\n",
    "y_pred = svm_clf.predict(X_test_tfidf_vector)"
   ]
  },
  {
   "cell_type": "code",
   "execution_count": 43,
   "id": "14fa3c75",
   "metadata": {},
   "outputs": [],
   "source": [
    "# Evaluate the performance of the classifier\n",
    "precision = precision_score(y_test, y_pred, pos_label='pos')\n",
    "recall = recall_score(y_test, y_pred, pos_label='pos')\n",
    "f2_score = find_f2_score(precision, recall)"
   ]
  },
  {
   "cell_type": "code",
   "execution_count": 44,
   "id": "8dadb85c",
   "metadata": {},
   "outputs": [
    {
     "name": "stdout",
     "output_type": "stream",
     "text": [
      "===Support Vector Machine Evaluation Metrics===\n",
      "Precision:  0.8885044213763937 %\n",
      "Recall:  0.905564263322884 %\n",
      "F2-Score:  0.9021000858771175 %\n"
     ]
    }
   ],
   "source": [
    "print(\"===Support Vector Machine Evaluation Metrics===\")\n",
    "print('Precision: ', precision, '%')\n",
    "print('Recall: ', recall, '%')\n",
    "print('F2-Score: ', f2_score, '%')"
   ]
  },
  {
   "cell_type": "code",
   "execution_count": null,
   "id": "bf91a61e",
   "metadata": {},
   "outputs": [],
   "source": []
  }
 ],
 "metadata": {
  "kernelspec": {
   "display_name": "Python 3 (ipykernel)",
   "language": "python",
   "name": "python3"
  },
  "language_info": {
   "codemirror_mode": {
    "name": "ipython",
    "version": 3
   },
   "file_extension": ".py",
   "mimetype": "text/x-python",
   "name": "python",
   "nbconvert_exporter": "python",
   "pygments_lexer": "ipython3",
   "version": "3.9.13"
  }
 },
 "nbformat": 4,
 "nbformat_minor": 5
}
